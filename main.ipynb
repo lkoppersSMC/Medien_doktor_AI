{
 "cells": [
  {
   "cell_type": "code",
   "execution_count": 1,
   "metadata": {},
   "outputs": [],
   "source": [
    "%load_ext autoreload\n",
    "%autoreload 2"
   ]
  },
  {
   "cell_type": "code",
   "execution_count": 2,
   "metadata": {},
   "outputs": [],
   "source": [
    "from simple_radio_script_encapsulated import _get_teaser_for_story, _get_statements_for_story_id\n",
    "from simple_radio_script_encapsulated import teaser_matches_crit, aggregate_decisions\n",
    "from IPython.display import display, Markdown"
   ]
  },
  {
   "cell_type": "code",
   "execution_count": 3,
   "metadata": {},
   "outputs": [],
   "source": [
    "story_no = 22192 # 23183 # 23188 # 22192 # 23168"
   ]
  },
  {
   "cell_type": "code",
   "execution_count": 4,
   "metadata": {},
   "outputs": [],
   "source": [
    "t1 = _get_teaser_for_story(story_no)"
   ]
  },
  {
   "cell_type": "code",
   "execution_count": 5,
   "metadata": {},
   "outputs": [],
   "source": [
    "statements = _get_statements_for_story_id(story_no)"
   ]
  },
  {
   "cell_type": "code",
   "execution_count": 6,
   "metadata": {},
   "outputs": [],
   "source": [
    "crit_match_prompt = \"\"\"\n",
    "    You are a professional journalist in the medicine domain. You will receive a text and i want you to decide whether the following criterion matches the text.\n",
    "    To help you guide your decision, you will also get a few expert statements in JSON Form.\n",
    "\n",
    "    Please answer in the following format:\n",
    "    Criterion\n",
    "    Decision: yes or no. \n",
    "    Reference: Paragraph in the text which matches the criterion.\n",
    "\n",
    "    For the references find all text passages and quote them in the form of a list.\n",
    "    Indicate for all text passages whether they come from the text or from an expert statement. \n",
    "    If it is a statement, name the expert who made the statement. It is very important to me that the people are explicitly named.\n",
    "    \n",
    "    ```\n",
    "    CRITERION:\n",
    "    {CRITERIA}\n",
    "    ```\n",
    "    \n",
    "    ```\n",
    "    TEXT: \n",
    "    {TEASER}\n",
    "    ```\n",
    "    \n",
    "    ```\n",
    "    EXPERT STATEMENTS: \n",
    "    {STATEMENTS}\n",
    "    ```\n",
    "    Please answer in German.\n",
    "    \"\"\" "
   ]
  },
  {
   "cell_type": "code",
   "execution_count": 7,
   "metadata": {},
   "outputs": [],
   "source": [
    "crit1 = \"\"\"Der Text erwähnt den Evidenzlevel. \n",
    "Was sind die Einschränkungen bei den Studienergebnissen? \n",
    "Gibt es Einschränkungen, die dazu führen, dass die zentralen Ergebnisse fragwürdig sind? \n",
    "\"\"\"\n",
    "crit2 = \"The text contains information about cancer\"\n",
    "crit3 = \"The text contains mentions a specifoc journal name of a study\"\n",
    "crit4 = \"The text describes a mathematical method for optimizing a loss function with four objectives\"\n",
    "crit6 = \"\"\"Der Text erwähnt das zentrale Forschungsergebnis\"\"\"\n",
    "\n",
    "crits = [crit1, crit2, crit3, crit4, crit6]"
   ]
  },
  {
   "cell_type": "code",
   "execution_count": 8,
   "metadata": {},
   "outputs": [],
   "source": [
    "outputs = [teaser_matches_crit(t1, str(statements), crit_match_prompt, c) for c in crits]"
   ]
  },
  {
   "cell_type": "code",
   "execution_count": 9,
   "metadata": {},
   "outputs": [
    {
     "data": {
      "text/plain": [
       "'KRITERIUM:\\nDer Text erwähnt den Evidenzlevel. Was sind die Einschränkungen bei den Studienergebnissen? Gibt es Einschränkungen, die dazu führen, dass die zentralen Ergebnisse fragwürdig sind?\\n\\nENTSCHEIDUNG: Ja.\\n\\nREFERENZ:\\n- \"Das Verfahren sei zwar recht flexibel, allerdings auch leicht durch kurzfristige Zufallsschwankungen beeinflussbar [I].\" (aus dem Text)\\n- \"Die Autoren schätzen diese Werte daher mithilfe statistischer Verfahren aus den Daten vergleichbarer Länder mit besserer Informationsbasis. Die sich aus dem Verfahren ergebende globale Übersterblichkeit von etwa 14,8 Millionen Todesfällen in den Jahren 2020 und 2021 ist daher mit einer gewissen Unsicherheit verbunden, sollte aber von der richtigen Größenordnung sein.\" (Aussage von Prof. Dr. Christoph Rothe)\\n- \"Diese Werte beruhen auf einem statistischen Verfahren, das leider recht stark durch zufällige Schwankungen in den Sterbezahlen vor der Pandemie beeinflusst werden kann.\" (Aussage von Prof. Dr. Christoph Rothe)\\n- \"In weiten Teilen Afrikas und in Teilen Asiens und Südamerikas werden Todesfälle jedoch nur sehr unzuverlässig registriert und Übersterblichkeit kann daher nicht aufgrund von gemeldeten Todesfällen geschätzt werden, sie wird indirekt aufgrund von Korrelationen zwischen Übersterblichkeit und vorhandenen Variablen wie dem Bruttoinlandsprodukt geschätzt.\" (Aussage von Jonas Schöley)\\n- \"Diese Unsicherheit ist höher bei kleinen Ländern (zum Beispiel Dänemark) und bei Ländern ohne direkte Informationen zu der Anzahl der Verstorbenen.\" (Aussage von Jonas Schöley)\\n- \"Jenseits dieser statistischen Unsicherheit gibt es aber immer auch einen Rest Modellierungsunsicherheit, so auch beim WHO-Modell.\" (Aussage von Jonas Schöley)\\n- \"Eine globale Schätzung wie diese ist problematisch, es greifen die verschiedensten Limitationen. Die Autoren gehen selbst auf einige dieser Limitationen ein (Seite sechs, rechte Spalte).\" (Aussage von Prof. Dr. Hanno Ulmer)\\n- \"Letztlich handelt es sich jedoch um eine sehr grobe Schätzung, die für einzelne Länder nicht zutreffend sein muss.\" (Aussage von Prof. Dr. Hanno Ulmer)\\n\\nAlle genannten Referenzen kommen aus den Expertenstatements und sind den jeweiligen Experten wie folgt zugeordnet:\\n- Prof. Dr. Christoph Rothe\\n- Jonas Schöley\\n- Prof. Dr. Hanno Ulmer'"
      ]
     },
     "execution_count": 9,
     "metadata": {},
     "output_type": "execute_result"
    }
   ],
   "source": [
    "outputs[0]"
   ]
  },
  {
   "cell_type": "code",
   "execution_count": 18,
   "metadata": {},
   "outputs": [],
   "source": [
    "agg_decisions_prompt = \"\"\"\n",
    "    I will provide a list of Texts to you. These Texts are decisions for specified criteria on a news article. \n",
    "    I want you to build a table with the three columns CRITERION, MATCH and REFERENCE.\n",
    "    The Reference should be displayable as an unordered list in Markdown.\n",
    "    Each Criterion should be in exactly one row.\n",
    "    The criterea are separated by \"|\"\n",
    "    \n",
    "\n",
    "    Here is the list of the decisions:\n",
    "    ```\n",
    "    {TEXT}\n",
    "    ```\n",
    "\n",
    "    Do not combine or split any criterion.\n",
    "    Please answer in German.\n",
    "\"\"\"\n",
    "\n",
    "    #The column critera should name the specified criteria, match indicates if the criteria matches or not and the column reference shows the part of the text which corresponds to the criteria. \n"
   ]
  },
  {
   "cell_type": "code",
   "execution_count": 19,
   "metadata": {},
   "outputs": [
    {
     "name": "stdout",
     "output_type": "stream",
     "text": [
      "CPU times: user 45.5 ms, sys: 1.35 ms, total: 46.8 ms\n",
      "Wall time: 51.7 s\n"
     ]
    }
   ],
   "source": [
    "%time table_out = aggregate_decisions(outputs, agg_decisions_prompt)"
   ]
  },
  {
   "cell_type": "code",
   "execution_count": 20,
   "metadata": {},
   "outputs": [],
   "source": [
    "file_path=str(story_no)+'.md'\n",
    "with open(file_path, 'w') as file:\n",
    "    print(table_out, file = file)"
   ]
  },
  {
   "cell_type": "code",
   "execution_count": 21,
   "metadata": {},
   "outputs": [
    {
     "data": {
      "text/markdown": [
       "| KRITERIUM | ENTSCHEIDUNG | REFERENZ |\n",
       "|-----------|--------------|----------|\n",
       "| Der Text erwähnt den Evidenzlevel. Was sind die Einschränkungen bei den Studienergebnissen? Gibt es Einschränkungen, die dazu führen, dass die zentralen Ergebnisse fragwürdig sind? | Ja | <ul><li>\"Das Verfahren sei zwar recht flexibel, allerdings auch leicht durch kurzfristige Zufallsschwankungen beeinflussbar [I].\" (aus dem Text)</li><li>\"Die Autoren schätzen diese Werte daher mithilfe statistischer Verfahren aus den Daten vergleichbarer Länder mit besserer Informationsbasis. Die sich aus dem Verfahren ergebende globale Übersterblichkeit von etwa 14,8 Millionen Todesfällen in den Jahren 2020 und 2021 ist daher mit einer gewissen Unsicherheit verbunden, sollte aber von der richtigen Größenordnung sein.\" (Aussage von Prof. Dr. Christoph Rothe)</li><li>\"Diese Werte beruhen auf einem statistischen Verfahren, das leider recht stark durch zufällige Schwankungen in den Sterbezahlen vor der Pandemie beeinflusst werden kann.\" (Aussage von Prof. Dr. Christoph Rothe)</li><li>\"In weiten Teilen Afrikas und in Teilen Asiens und Südamerikas werden Todesfälle jedoch nur sehr unzuverlässig registriert und Übersterblichkeit kann daher nicht aufgrund von gemeldeten Todesfällen geschätzt werden, sie wird indirekt aufgrund von Korrelationen zwischen Übersterblichkeit und vorhandenen Variablen wie dem Bruttoinlandsprodukt geschätzt.\" (Aussage von Jonas Schöley)</li><li>\"Diese Unsicherheit ist höher bei kleinen Ländern (zum Beispiel Dänemark) und bei Ländern ohne direkte Informationen zu der Anzahl der Verstorbenen.\" (Aussage von Jonas Schöley)</li><li>\"Jenseits dieser statistischen Unsicherheit gibt es aber immer auch einen Rest Modellierungsunsicherheit, so auch beim WHO-Modell.\" (Aussage von Jonas Schöley)</li><li>\"Eine globale Schätzung wie diese ist problematisch, es greifen die verschiedensten Limitationen. Die Autoren gehen selbst auf einige dieser Limitationen ein (Seite sechs, rechte Spalte).\" (Aussage von Prof. Dr. Hanno Ulmer)</li><li>\"Letztlich handelt es sich jedoch um eine sehr grobe Schätzung, die für einzelne Länder nicht zutreffend sein muss.\" (Aussage von Prof. Dr. Hanno Ulmer)</li></ul> |\n",
       "| Der Text enthält Informationen über Krebs. | Nein | Der gesamte Text sowie die Expertenaussagen beziehen sich ausschließlich auf die Übersterblichkeit im Zusammenhang mit der COVID-19-Pandemie und enthalten keine Informationen über Krebs. |\n",
       "| Der Text enthält die Nennung eines spezifischen Zeitschriftennamens einer Studie. | Ja | <ul><li>\"In der Fachzeitschrift „Nature“ ist am 14.12.2022 eine aktualisierte Schätzung der Weltgesundheitsorganisation (WHO) zur globalen Übersterblichkeit bedingt durch COVID-19 (siehe Primärquelle) erschienen.\" (aus dem Text)</li><li>\"Die nun in „Nature“ publizierte Statistik der WHO ist eine Aktualisierung der Ergebnisse, die bereits im Mai dieses Jahres veröffentlicht wurden.\" (aus dem Text)</li><li>Prof. Dr. Christoph Rothe: \"„Die „Nature“-Studie beschreibt das von der WHO verwendete Verfahren zur Berechnung der globalen Übersterblichkeit während der COVID-19-Pandemie in den Jahren 2020 und 2021, und seine Ergebnisse.\" (aus einer Expertenaussage)</li></ul> |\n",
       "| Der Text beschreibt eine mathematische Methode zur Optimierung einer Verlustfunktion mit vier Zielen. | Nein | Keine der genannten Referenzen beschreibt eine mathematische Methode zur Optimierung einer Verlustfunktion mit vier Zielen. Stattdessen wird allgemein von statistischen Verfahren und Modellen gesprochen, die zur Schätzung der Übersterblichkeit verwendet werden. |\n",
       "| Der Text erwähnt das zentrale Forschungsergebnis. | Ja | <ul><li>\"Demnach kam es in den Jahren 2020 und 2021 weltweit zu rund 14,8 Millionen zusätzlichen Todesfällen.\" (aus dem Text)</li><li>\"Die durchschnittliche globale Pro-Kopf-Übersterblichkeitsrate im Jahr 2020 lag den Forschenden zufolge bei 0,06 Prozent, 2021 stieg sie auf 0,13 Prozent.\" (aus dem Text)</li><li>\"In Deutschland starben der WHO-Statistik zufolge rund 122.000 Menschen mehr, als zu erwarten gewesen wäre.\" (aus dem Text)</li><li>Prof. Dr. Christoph Rothe: \"Die sich aus dem Verfahren ergebende globale Übersterblichkeit von etwa 14,8 Millionen Todesfällen in den Jahren 2020 und 2021 ist daher mit einer gewissen Unsicherheit verbunden, sollte aber von der richtigen Größenordnung sein.\" (aus einer Expertenaussage)</li><li>Jonas Schöley: \"In dem angehängten Artikel werden für Deutschland für die Jahre 2020/21 rund 122.000 (101.000–143.000) vorzeitig Verstorbene geschätzt.\" (aus einer Expertenaussage)</li></ul> |"
      ],
      "text/plain": [
       "<IPython.core.display.Markdown object>"
      ]
     },
     "metadata": {},
     "output_type": "display_data"
    }
   ],
   "source": [
    "display(Markdown(table_out))"
   ]
  },
  {
   "cell_type": "code",
   "execution_count": 14,
   "metadata": {},
   "outputs": [],
   "source": [
    "stories = [22192, 23183, 23188, 22192, 23168]\n",
    "stories = None\n",
    "# PAY ATTENTION HERE! Costs a lot of time and money."
   ]
  },
  {
   "cell_type": "code",
   "execution_count": 16,
   "metadata": {},
   "outputs": [],
   "source": [
    "mediendoktor = {}\n",
    "if stories:\n",
    "    for story_no in stories:\n",
    "        teaser = _get_teaser_for_story(story_no)\n",
    "        statements = _get_statements_for_story_id(story_no)\n",
    "        outputs = [teaser_matches_crit(t1, str(statements), crit_match_prompt, c) for c in crits]\n",
    "        table_out = aggregate_decisions(outputs, agg_decisions_prompt)\n",
    "        mediendoktor[story_no]=table_out"
   ]
  },
  {
   "cell_type": "code",
   "execution_count": 17,
   "metadata": {},
   "outputs": [],
   "source": [
    "if stories:\n",
    "    for story_no in stories:\n",
    "        print(f\"Hier ist die Einschätzung der Kriterien zur Story mit der ID {story_no}:\")\n",
    "        display(Markdown(mediendoktor[story_no]))"
   ]
  },
  {
   "cell_type": "code",
   "execution_count": null,
   "metadata": {},
   "outputs": [],
   "source": []
  }
 ],
 "metadata": {
  "kernelspec": {
   "display_name": "Python 3 (ipykernel)",
   "language": "python",
   "name": "python3"
  },
  "language_info": {
   "codemirror_mode": {
    "name": "ipython",
    "version": 3
   },
   "file_extension": ".py",
   "mimetype": "text/x-python",
   "name": "python",
   "nbconvert_exporter": "python",
   "pygments_lexer": "ipython3",
   "version": "3.11.6"
  }
 },
 "nbformat": 4,
 "nbformat_minor": 4
}
