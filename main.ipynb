{
 "cells": [
  {
   "cell_type": "code",
   "execution_count": 1,
   "metadata": {},
   "outputs": [],
   "source": [
    "%load_ext autoreload\n",
    "%autoreload 2"
   ]
  },
  {
   "cell_type": "code",
   "execution_count": 38,
   "metadata": {},
   "outputs": [],
   "source": [
    "from simple_radio_script_encapsulated import _get_teaser_for_story, _get_statements_for_story_id\n",
    "from simple_radio_script_encapsulated import teaser_matches_crit, aggregate_decisions"
   ]
  },
  {
   "cell_type": "code",
   "execution_count": 39,
   "metadata": {},
   "outputs": [],
   "source": [
    "story_no = 23188"
   ]
  },
  {
   "cell_type": "code",
   "execution_count": 40,
   "metadata": {},
   "outputs": [
    {
     "data": {
      "text/plain": [
       "'Die Computertomographie (CT) ist eines der wichtigsten Diagnoseverfahren in der Medizin. Der Nutzen ist unumstritten. Gleichwohl ist auch bekannt, dass zu viel Röntgenstrahlung das Krebsrisiko erhöhen kann. Je jünger die Patienten, desto wichtiger ist ein Blick auf diese Dosis-Wirkungs-Beziehung. Jedes Jahr unterziehen sich mehr als eine Million Kinder in Europa einem CT-Scan. Wie groß das Strahlenrisiko bei ihnen genau ist, ist nicht bekannt.\\n\\nIn einer großen Studie im Fachblatt „Nature Medicine“ hat nun ein internationales Forschungsteam fast eine Million Menschen in neun europäischen Ländern untersucht, die vor ihrem 22. Lebensjahr CT-Scans hatten (siehe Primärquelle). Die Autorinnen und Autoren berechneten zunächst die Strahlenbelastung der Patienten. Dabei zeigte sich ein Zusammenhang zwischen der Menge an Strahlung und dem Risiko für Blutkrebs. Für jede Person wurde die Strahlendosis geschätzt, die auf das Knochenmark einwirkt, wo Blutzellen produziert werden. Bei Leukämie kommt es zu einer bösartigen Veränderung von Blutzellen. Ein bis zwei von 10.000 Kindern, die heute einen CT-Scan mit einer durchschnittlichen Strahlendosis von acht Milligray (mGy) erhalten, könnten der Studie zufolge in den nächsten zwölf Jahren aufgrund der CT-Untersuchung Blutkrebs entwickeln. Mit der Einheit mGy wird gemessen, wie viel Strahlung das Körpergewebe während eines CT-Scans aufnimmt.\\n\\nDie Forschenden betonen, dass ihre Ergebnisse dazu beitragen könnten, medizinische Richtlinien zu schärfen. Sie seien ein weiterer Beleg dafür, die Strahlendosis bei Kindern so niedrig wie möglich zu halten. In Deutschland sind CT-Scans bei Kindern sehr streng geregelt [I] [II].'"
      ]
     },
     "execution_count": 40,
     "metadata": {},
     "output_type": "execute_result"
    }
   ],
   "source": [
    "t1 = _get_teaser_for_story(story_no)\n",
    "t1"
   ]
  },
  {
   "cell_type": "code",
   "execution_count": 41,
   "metadata": {},
   "outputs": [
    {
     "name": "stdout",
     "output_type": "stream",
     "text": [
      "[{'expert_name': 'Prof. Dr. Hajo Zeeb', 'statement': '„Das ist die lang erwartete Epi-CT-Studie, in die auch unsere (wenigen) deutschen Daten eingegangen sind. Hauptsächlich wird die Datenmenge aber von der großen Studie aus Großbritannien geprägt (rund 50 Prozent), die Daten der ersten Veröffentlichungen dieser Studie wurden allerdings für die vorliegende Analyse nochmal aktualisiert und erweitert.“\\n\\n„Da viele Einzelkohorten schon vorher publiziert wurden, überrascht das Gesamtergebnis erhöhter Risiken pro Dosis für hämatologische Krebserkrankungen bei jungen Menschen nicht. Einige Auffälligkeiten gibt es aber schon. Zum Beispiel die erhöhten Risiken für das Hodgkin-Lymphom, was in der großen Referenzstudie in der Strahlenepidemiologie, der Life-Span-Study bei Überlebenden der Atombombenabwürfe in Japan, so nicht gefunden wird, und auch nicht in den bisherigen Einzelveröffentlichungen zu CT-Expositionen. Dies ist aber nur ein kleiner Anteil aller Fälle, und muss in Zukunft weiter untersucht werden.“\\n\\n„Die Methodik ist insgesamt aus meiner Sicht sehr solide, insbesondere bei der Dosisabschätzung wurden sehr umfangreiche methodische Anstrengungen unternommen, und es wurden viele Analysen auch mit (geplanten) alternativen Gruppen oder Spezifikationen vorgenommen, die ganz überwiegend konsistent waren. Allerdings fehlen mögliche Confounder in allen oder in einzelnen Kohorten, so etwa der sozioökonomische Status (nur in vier Kohorten vorhanden) oder die klinische Indikation. Dies ist aber kein Übersehen, diese Informationen stehen in einer Pooling-Studie dieser Art nicht überall zur Verfügung. Durch die Wahl eines Mindestabstands von zwei Jahren zwischen CT und Beginn der Periode, in der auftretende Erkrankungen als potenziell mit der CT-Strahlendosis in Verbindung stehend gewertet werden, wird verhindert, dass zeitlich sehr früh nach CT-Aufnahme auftretende Tumoren der Bildgebung zugeschrieben werden. Das würde keinen Sinn machen (Stichwort: reverse causation). Hierzu wurden zudem noch weitere Sensitivitätsanalysen mit anderen Perioden durchgeführt.“\\n\\n„Bei der Interpretation und möglichen Schlussfolgerungen ist zu beachten, dass es natürlich bei der Durchführung einer CT nicht klar ist, welche Kinder oder Jugendliche gegebenenfalls betroffen sind. Daher kann es nur für jedwede CT-Untersuchung darum gehen, die medizinische Indikation für die Durchführung einer CT genau und restriktiv zu stellen, überall wo möglich alternative Bildgebungsverfahren einzusetzen und die Durchführung von CT in Bezug auf die technischen Parameter genau auf die jungen Patient:innen abzustimmen, sodass die Dosis so niedrig wie möglich ist. Eine gute Dosisdokumentation wäre überdies hilfreich, auch für weitere Forschungsprojekte und Monitoring.“\\n\\n„In Deutschland wird insgesamt schon recht restriktiv mit CT bei Kindern/Jugendlichen umgegangen, so meine Einschätzung. Insofern bestätigt die vorliegende Studie diese Praxis und kann gegebenenfalls an manchen Praxen oder Kliniken nochmal für zusätzliche Klarheit und zu Anstrengungen führen.“', 'question': None}]\n"
     ]
    }
   ],
   "source": [
    "statements = _get_statements_for_story_id(story_no)\n",
    "print(statements)"
   ]
  },
  {
   "cell_type": "code",
   "execution_count": 42,
   "metadata": {},
   "outputs": [],
   "source": [
    "crit_match_prompt = \"\"\"\n",
    "    You are a professional journalist in the medicine domain. You will receive a text and i want you to decide whether the following criteria matches the text.\n",
    "    To help you guide your decision, you will also get a few expert statements in JSON Form.\n",
    "    Please answer in the following format.\n",
    "    The Criteria is: {CRITERIA}\n",
    "    Decision: yes or no. Reference: Paragraph in the text which matches the criteria.\n",
    "\n",
    "    ```\n",
    "    TEXT: {TEXT}\n",
    "    ```\n",
    "    ```\n",
    "    EXPERT STATEMENTS: \n",
    "    {STATEMENTS}\n",
    "    ```\n",
    "    Please answer in German.\n",
    "    \"\"\" "
   ]
  },
  {
   "cell_type": "code",
   "execution_count": 43,
   "metadata": {},
   "outputs": [],
   "source": [
    "agg_decisions_prompt = \"\"\"\n",
    "    I will provide a list of Texts to you. These Texts are decisions for specified criteria on a news article. \n",
    "    I want you to build a table with the columns criteria, match and reference.\n",
    "    The column critera should name the specified criteria, match indicates if the criteria matches or not and the column reference shows the part of the text which corresponds to the criteria\n",
    "\n",
    "    The different decisions are separated by the | symbol\n",
    "\n",
    "    Here is the list of the decisions:\n",
    "    ```\n",
    "    TEXT: {TEASER}\n",
    "    ```\n",
    "    Please answer in german.\n",
    "\n",
    "\"\"\""
   ]
  },
  {
   "cell_type": "code",
   "execution_count": 34,
   "metadata": {},
   "outputs": [],
   "source": [
    "crit1 = \"The text mentions one or more persons explicitly\"\n",
    "crit2 = \"The text contains information about cancer\"\n",
    "crit3 = \"The text contains mentions a specifoc journal name of a study\"\n",
    "crit4 = \"The text describes a mathematical method for optimizing a loss function with four objectives\"\n",
    "\n",
    "crits = [crit1, crit2, crit3, crit4]"
   ]
  },
  {
   "cell_type": "code",
   "execution_count": 37,
   "metadata": {},
   "outputs": [
    {
     "ename": "KeyError",
     "evalue": "'TEXT'",
     "output_type": "error",
     "traceback": [
      "\u001b[0;31m---------------------------------------------------------------------------\u001b[0m",
      "\u001b[0;31mKeyError\u001b[0m                                  Traceback (most recent call last)",
      "Cell \u001b[0;32mIn[37], line 1\u001b[0m\n\u001b[0;32m----> 1\u001b[0m outputs \u001b[38;5;241m=\u001b[39m \u001b[43m[\u001b[49m\u001b[43mteaser_matches_crit\u001b[49m\u001b[43m(\u001b[49m\u001b[43mt1\u001b[49m\u001b[43m,\u001b[49m\u001b[43m \u001b[49m\u001b[38;5;28;43mstr\u001b[39;49m\u001b[43m(\u001b[49m\u001b[43mstatements\u001b[49m\u001b[43m)\u001b[49m\u001b[43m,\u001b[49m\u001b[43m \u001b[49m\u001b[43mcrit_match_prompt\u001b[49m\u001b[43m,\u001b[49m\u001b[43m \u001b[49m\u001b[43mc\u001b[49m\u001b[43m)\u001b[49m\u001b[43m \u001b[49m\u001b[38;5;28;43;01mfor\u001b[39;49;00m\u001b[43m \u001b[49m\u001b[43mc\u001b[49m\u001b[43m \u001b[49m\u001b[38;5;129;43;01min\u001b[39;49;00m\u001b[43m \u001b[49m\u001b[43mcrits\u001b[49m\u001b[43m]\u001b[49m\n",
      "Cell \u001b[0;32mIn[37], line 1\u001b[0m, in \u001b[0;36m<listcomp>\u001b[0;34m(.0)\u001b[0m\n\u001b[0;32m----> 1\u001b[0m outputs \u001b[38;5;241m=\u001b[39m [\u001b[43mteaser_matches_crit\u001b[49m\u001b[43m(\u001b[49m\u001b[43mt1\u001b[49m\u001b[43m,\u001b[49m\u001b[43m \u001b[49m\u001b[38;5;28;43mstr\u001b[39;49m\u001b[43m(\u001b[49m\u001b[43mstatements\u001b[49m\u001b[43m)\u001b[49m\u001b[43m,\u001b[49m\u001b[43m \u001b[49m\u001b[43mcrit_match_prompt\u001b[49m\u001b[43m,\u001b[49m\u001b[43m \u001b[49m\u001b[43mc\u001b[49m\u001b[43m)\u001b[49m \u001b[38;5;28;01mfor\u001b[39;00m c \u001b[38;5;129;01min\u001b[39;00m crits]\n",
      "File \u001b[0;32m/workspace/simple_radio_script_encapsulated.py:93\u001b[0m, in \u001b[0;36mteaser_matches_crit\u001b[0;34m(teaser, statements, prompt, crit)\u001b[0m\n\u001b[1;32m     90\u001b[0m teaser_crit_prompt \u001b[38;5;241m=\u001b[39m PromptTemplate(template\u001b[38;5;241m=\u001b[39mprompt, input_variables\u001b[38;5;241m=\u001b[39m[\u001b[38;5;124m\"\u001b[39m\u001b[38;5;124mTEASER\u001b[39m\u001b[38;5;124m\"\u001b[39m, \u001b[38;5;124m\"\u001b[39m\u001b[38;5;124mSTATEMENTS\u001b[39m\u001b[38;5;124m\"\u001b[39m, \u001b[38;5;124m\"\u001b[39m\u001b[38;5;124mCRITERIA\u001b[39m\u001b[38;5;124m\"\u001b[39m])\n\u001b[1;32m     91\u001b[0m teaser_chain \u001b[38;5;241m=\u001b[39m teaser_crit_prompt \u001b[38;5;241m|\u001b[39m ChatOpenAI(temperature\u001b[38;5;241m=\u001b[39m\u001b[38;5;241m0\u001b[39m, model\u001b[38;5;241m=\u001b[39mGPT_MODEL) \u001b[38;5;241m|\u001b[39m StrOutputParser()\n\u001b[0;32m---> 93\u001b[0m teaser_match_output \u001b[38;5;241m=\u001b[39m \u001b[43mteaser_chain\u001b[49m\u001b[38;5;241;43m.\u001b[39;49m\u001b[43minvoke\u001b[49m\u001b[43m(\u001b[49m\u001b[43m{\u001b[49m\u001b[38;5;124;43m\"\u001b[39;49m\u001b[38;5;124;43mTEASER\u001b[39;49m\u001b[38;5;124;43m\"\u001b[39;49m\u001b[43m:\u001b[49m\u001b[43m \u001b[49m\u001b[43mteaser\u001b[49m\u001b[43m,\u001b[49m\u001b[43m \u001b[49m\u001b[38;5;124;43m\"\u001b[39;49m\u001b[38;5;124;43mSTATEMENTS\u001b[39;49m\u001b[38;5;124;43m\"\u001b[39;49m\u001b[43m:\u001b[49m\u001b[43mstatements\u001b[49m\u001b[43m,\u001b[49m\u001b[43m \u001b[49m\u001b[38;5;124;43m\"\u001b[39;49m\u001b[38;5;124;43mCRITERIA\u001b[39;49m\u001b[38;5;124;43m\"\u001b[39;49m\u001b[43m:\u001b[49m\u001b[43m \u001b[49m\u001b[43mcrit\u001b[49m\u001b[43m}\u001b[49m\u001b[43m)\u001b[49m\n\u001b[1;32m     94\u001b[0m \u001b[38;5;28;01mreturn\u001b[39;00m teaser_match_output\n",
      "File \u001b[0;32m/usr/local/lib/python3.11/site-packages/langchain/schema/runnable/base.py:1426\u001b[0m, in \u001b[0;36mRunnableSequence.invoke\u001b[0;34m(self, input, config)\u001b[0m\n\u001b[1;32m   1424\u001b[0m \u001b[38;5;28;01mtry\u001b[39;00m:\n\u001b[1;32m   1425\u001b[0m     \u001b[38;5;28;01mfor\u001b[39;00m i, step \u001b[38;5;129;01min\u001b[39;00m \u001b[38;5;28menumerate\u001b[39m(\u001b[38;5;28mself\u001b[39m\u001b[38;5;241m.\u001b[39msteps):\n\u001b[0;32m-> 1426\u001b[0m         \u001b[38;5;28minput\u001b[39m \u001b[38;5;241m=\u001b[39m \u001b[43mstep\u001b[49m\u001b[38;5;241;43m.\u001b[39;49m\u001b[43minvoke\u001b[49m\u001b[43m(\u001b[49m\n\u001b[1;32m   1427\u001b[0m \u001b[43m            \u001b[49m\u001b[38;5;28;43minput\u001b[39;49m\u001b[43m,\u001b[49m\n\u001b[1;32m   1428\u001b[0m \u001b[43m            \u001b[49m\u001b[38;5;66;43;03m# mark each step as a child run\u001b[39;49;00m\n\u001b[1;32m   1429\u001b[0m \u001b[43m            \u001b[49m\u001b[43mpatch_config\u001b[49m\u001b[43m(\u001b[49m\n\u001b[1;32m   1430\u001b[0m \u001b[43m                \u001b[49m\u001b[43mconfig\u001b[49m\u001b[43m,\u001b[49m\u001b[43m \u001b[49m\u001b[43mcallbacks\u001b[49m\u001b[38;5;241;43m=\u001b[39;49m\u001b[43mrun_manager\u001b[49m\u001b[38;5;241;43m.\u001b[39;49m\u001b[43mget_child\u001b[49m\u001b[43m(\u001b[49m\u001b[38;5;124;43mf\u001b[39;49m\u001b[38;5;124;43m\"\u001b[39;49m\u001b[38;5;124;43mseq:step:\u001b[39;49m\u001b[38;5;132;43;01m{\u001b[39;49;00m\u001b[43mi\u001b[49m\u001b[38;5;241;43m+\u001b[39;49m\u001b[38;5;241;43m1\u001b[39;49m\u001b[38;5;132;43;01m}\u001b[39;49;00m\u001b[38;5;124;43m\"\u001b[39;49m\u001b[43m)\u001b[49m\n\u001b[1;32m   1431\u001b[0m \u001b[43m            \u001b[49m\u001b[43m)\u001b[49m\u001b[43m,\u001b[49m\n\u001b[1;32m   1432\u001b[0m \u001b[43m        \u001b[49m\u001b[43m)\u001b[49m\n\u001b[1;32m   1433\u001b[0m \u001b[38;5;66;03m# finish the root run\u001b[39;00m\n\u001b[1;32m   1434\u001b[0m \u001b[38;5;28;01mexcept\u001b[39;00m \u001b[38;5;167;01mBaseException\u001b[39;00m \u001b[38;5;28;01mas\u001b[39;00m e:\n",
      "File \u001b[0;32m/usr/local/lib/python3.11/site-packages/langchain/schema/prompt_template.py:60\u001b[0m, in \u001b[0;36mBasePromptTemplate.invoke\u001b[0;34m(self, input, config)\u001b[0m\n\u001b[1;32m     57\u001b[0m \u001b[38;5;28;01mdef\u001b[39;00m \u001b[38;5;21minvoke\u001b[39m(\n\u001b[1;32m     58\u001b[0m     \u001b[38;5;28mself\u001b[39m, \u001b[38;5;28minput\u001b[39m: Dict, config: Optional[RunnableConfig] \u001b[38;5;241m=\u001b[39m \u001b[38;5;28;01mNone\u001b[39;00m\n\u001b[1;32m     59\u001b[0m ) \u001b[38;5;241m-\u001b[39m\u001b[38;5;241m>\u001b[39m PromptValue:\n\u001b[0;32m---> 60\u001b[0m     \u001b[38;5;28;01mreturn\u001b[39;00m \u001b[38;5;28;43mself\u001b[39;49m\u001b[38;5;241;43m.\u001b[39;49m\u001b[43m_call_with_config\u001b[49m\u001b[43m(\u001b[49m\n\u001b[1;32m     61\u001b[0m \u001b[43m        \u001b[49m\u001b[38;5;28;43;01mlambda\u001b[39;49;00m\u001b[43m \u001b[49m\u001b[43minner_input\u001b[49m\u001b[43m:\u001b[49m\u001b[43m \u001b[49m\u001b[38;5;28;43mself\u001b[39;49m\u001b[38;5;241;43m.\u001b[39;49m\u001b[43mformat_prompt\u001b[49m\u001b[43m(\u001b[49m\n\u001b[1;32m     62\u001b[0m \u001b[43m            \u001b[49m\u001b[38;5;241;43m*\u001b[39;49m\u001b[38;5;241;43m*\u001b[39;49m\u001b[43m{\u001b[49m\u001b[43mkey\u001b[49m\u001b[43m:\u001b[49m\u001b[43m \u001b[49m\u001b[43minner_input\u001b[49m\u001b[43m[\u001b[49m\u001b[43mkey\u001b[49m\u001b[43m]\u001b[49m\u001b[43m \u001b[49m\u001b[38;5;28;43;01mfor\u001b[39;49;00m\u001b[43m \u001b[49m\u001b[43mkey\u001b[49m\u001b[43m \u001b[49m\u001b[38;5;129;43;01min\u001b[39;49;00m\u001b[43m \u001b[49m\u001b[38;5;28;43mself\u001b[39;49m\u001b[38;5;241;43m.\u001b[39;49m\u001b[43minput_variables\u001b[49m\u001b[43m}\u001b[49m\n\u001b[1;32m     63\u001b[0m \u001b[43m        \u001b[49m\u001b[43m)\u001b[49m\u001b[43m,\u001b[49m\n\u001b[1;32m     64\u001b[0m \u001b[43m        \u001b[49m\u001b[38;5;28;43minput\u001b[39;49m\u001b[43m,\u001b[49m\n\u001b[1;32m     65\u001b[0m \u001b[43m        \u001b[49m\u001b[43mconfig\u001b[49m\u001b[43m,\u001b[49m\n\u001b[1;32m     66\u001b[0m \u001b[43m        \u001b[49m\u001b[43mrun_type\u001b[49m\u001b[38;5;241;43m=\u001b[39;49m\u001b[38;5;124;43m\"\u001b[39;49m\u001b[38;5;124;43mprompt\u001b[39;49m\u001b[38;5;124;43m\"\u001b[39;49m\u001b[43m,\u001b[49m\n\u001b[1;32m     67\u001b[0m \u001b[43m    \u001b[49m\u001b[43m)\u001b[49m\n",
      "File \u001b[0;32m/usr/local/lib/python3.11/site-packages/langchain/schema/runnable/base.py:847\u001b[0m, in \u001b[0;36mRunnable._call_with_config\u001b[0;34m(self, func, input, config, run_type, **kwargs)\u001b[0m\n\u001b[1;32m    840\u001b[0m run_manager \u001b[38;5;241m=\u001b[39m callback_manager\u001b[38;5;241m.\u001b[39mon_chain_start(\n\u001b[1;32m    841\u001b[0m     dumpd(\u001b[38;5;28mself\u001b[39m),\n\u001b[1;32m    842\u001b[0m     \u001b[38;5;28minput\u001b[39m,\n\u001b[1;32m    843\u001b[0m     run_type\u001b[38;5;241m=\u001b[39mrun_type,\n\u001b[1;32m    844\u001b[0m     name\u001b[38;5;241m=\u001b[39mconfig\u001b[38;5;241m.\u001b[39mget(\u001b[38;5;124m\"\u001b[39m\u001b[38;5;124mrun_name\u001b[39m\u001b[38;5;124m\"\u001b[39m),\n\u001b[1;32m    845\u001b[0m )\n\u001b[1;32m    846\u001b[0m \u001b[38;5;28;01mtry\u001b[39;00m:\n\u001b[0;32m--> 847\u001b[0m     output \u001b[38;5;241m=\u001b[39m \u001b[43mcall_func_with_variable_args\u001b[49m\u001b[43m(\u001b[49m\n\u001b[1;32m    848\u001b[0m \u001b[43m        \u001b[49m\u001b[43mfunc\u001b[49m\u001b[43m,\u001b[49m\u001b[43m \u001b[49m\u001b[38;5;28;43minput\u001b[39;49m\u001b[43m,\u001b[49m\u001b[43m \u001b[49m\u001b[43mconfig\u001b[49m\u001b[43m,\u001b[49m\u001b[43m \u001b[49m\u001b[43mrun_manager\u001b[49m\u001b[43m,\u001b[49m\u001b[43m \u001b[49m\u001b[38;5;241;43m*\u001b[39;49m\u001b[38;5;241;43m*\u001b[39;49m\u001b[43mkwargs\u001b[49m\n\u001b[1;32m    849\u001b[0m \u001b[43m    \u001b[49m\u001b[43m)\u001b[49m\n\u001b[1;32m    850\u001b[0m \u001b[38;5;28;01mexcept\u001b[39;00m \u001b[38;5;167;01mBaseException\u001b[39;00m \u001b[38;5;28;01mas\u001b[39;00m e:\n\u001b[1;32m    851\u001b[0m     run_manager\u001b[38;5;241m.\u001b[39mon_chain_error(e)\n",
      "File \u001b[0;32m/usr/local/lib/python3.11/site-packages/langchain/schema/runnable/config.py:308\u001b[0m, in \u001b[0;36mcall_func_with_variable_args\u001b[0;34m(func, input, config, run_manager, **kwargs)\u001b[0m\n\u001b[1;32m    306\u001b[0m \u001b[38;5;28;01mif\u001b[39;00m run_manager \u001b[38;5;129;01mis\u001b[39;00m \u001b[38;5;129;01mnot\u001b[39;00m \u001b[38;5;28;01mNone\u001b[39;00m \u001b[38;5;129;01mand\u001b[39;00m accepts_run_manager(func):\n\u001b[1;32m    307\u001b[0m     kwargs[\u001b[38;5;124m\"\u001b[39m\u001b[38;5;124mrun_manager\u001b[39m\u001b[38;5;124m\"\u001b[39m] \u001b[38;5;241m=\u001b[39m run_manager\n\u001b[0;32m--> 308\u001b[0m \u001b[38;5;28;01mreturn\u001b[39;00m \u001b[43mfunc\u001b[49m\u001b[43m(\u001b[49m\u001b[38;5;28;43minput\u001b[39;49m\u001b[43m,\u001b[49m\u001b[43m \u001b[49m\u001b[38;5;241;43m*\u001b[39;49m\u001b[38;5;241;43m*\u001b[39;49m\u001b[43mkwargs\u001b[49m\u001b[43m)\u001b[49m\n",
      "File \u001b[0;32m/usr/local/lib/python3.11/site-packages/langchain/schema/prompt_template.py:62\u001b[0m, in \u001b[0;36mBasePromptTemplate.invoke.<locals>.<lambda>\u001b[0;34m(inner_input)\u001b[0m\n\u001b[1;32m     57\u001b[0m \u001b[38;5;28;01mdef\u001b[39;00m \u001b[38;5;21minvoke\u001b[39m(\n\u001b[1;32m     58\u001b[0m     \u001b[38;5;28mself\u001b[39m, \u001b[38;5;28minput\u001b[39m: Dict, config: Optional[RunnableConfig] \u001b[38;5;241m=\u001b[39m \u001b[38;5;28;01mNone\u001b[39;00m\n\u001b[1;32m     59\u001b[0m ) \u001b[38;5;241m-\u001b[39m\u001b[38;5;241m>\u001b[39m PromptValue:\n\u001b[1;32m     60\u001b[0m     \u001b[38;5;28;01mreturn\u001b[39;00m \u001b[38;5;28mself\u001b[39m\u001b[38;5;241m.\u001b[39m_call_with_config(\n\u001b[1;32m     61\u001b[0m         \u001b[38;5;28;01mlambda\u001b[39;00m inner_input: \u001b[38;5;28mself\u001b[39m\u001b[38;5;241m.\u001b[39mformat_prompt(\n\u001b[0;32m---> 62\u001b[0m             \u001b[38;5;241m*\u001b[39m\u001b[38;5;241m*\u001b[39m\u001b[43m{\u001b[49m\u001b[43mkey\u001b[49m\u001b[43m:\u001b[49m\u001b[43m \u001b[49m\u001b[43minner_input\u001b[49m\u001b[43m[\u001b[49m\u001b[43mkey\u001b[49m\u001b[43m]\u001b[49m\u001b[43m \u001b[49m\u001b[38;5;28;43;01mfor\u001b[39;49;00m\u001b[43m \u001b[49m\u001b[43mkey\u001b[49m\u001b[43m \u001b[49m\u001b[38;5;129;43;01min\u001b[39;49;00m\u001b[43m \u001b[49m\u001b[38;5;28;43mself\u001b[39;49m\u001b[38;5;241;43m.\u001b[39;49m\u001b[43minput_variables\u001b[49m\u001b[43m}\u001b[49m\n\u001b[1;32m     63\u001b[0m         ),\n\u001b[1;32m     64\u001b[0m         \u001b[38;5;28minput\u001b[39m,\n\u001b[1;32m     65\u001b[0m         config,\n\u001b[1;32m     66\u001b[0m         run_type\u001b[38;5;241m=\u001b[39m\u001b[38;5;124m\"\u001b[39m\u001b[38;5;124mprompt\u001b[39m\u001b[38;5;124m\"\u001b[39m,\n\u001b[1;32m     67\u001b[0m     )\n",
      "File \u001b[0;32m/usr/local/lib/python3.11/site-packages/langchain/schema/prompt_template.py:62\u001b[0m, in \u001b[0;36m<dictcomp>\u001b[0;34m(.0)\u001b[0m\n\u001b[1;32m     57\u001b[0m \u001b[38;5;28;01mdef\u001b[39;00m \u001b[38;5;21minvoke\u001b[39m(\n\u001b[1;32m     58\u001b[0m     \u001b[38;5;28mself\u001b[39m, \u001b[38;5;28minput\u001b[39m: Dict, config: Optional[RunnableConfig] \u001b[38;5;241m=\u001b[39m \u001b[38;5;28;01mNone\u001b[39;00m\n\u001b[1;32m     59\u001b[0m ) \u001b[38;5;241m-\u001b[39m\u001b[38;5;241m>\u001b[39m PromptValue:\n\u001b[1;32m     60\u001b[0m     \u001b[38;5;28;01mreturn\u001b[39;00m \u001b[38;5;28mself\u001b[39m\u001b[38;5;241m.\u001b[39m_call_with_config(\n\u001b[1;32m     61\u001b[0m         \u001b[38;5;28;01mlambda\u001b[39;00m inner_input: \u001b[38;5;28mself\u001b[39m\u001b[38;5;241m.\u001b[39mformat_prompt(\n\u001b[0;32m---> 62\u001b[0m             \u001b[38;5;241m*\u001b[39m\u001b[38;5;241m*\u001b[39m{key: \u001b[43minner_input\u001b[49m\u001b[43m[\u001b[49m\u001b[43mkey\u001b[49m\u001b[43m]\u001b[49m \u001b[38;5;28;01mfor\u001b[39;00m key \u001b[38;5;129;01min\u001b[39;00m \u001b[38;5;28mself\u001b[39m\u001b[38;5;241m.\u001b[39minput_variables}\n\u001b[1;32m     63\u001b[0m         ),\n\u001b[1;32m     64\u001b[0m         \u001b[38;5;28minput\u001b[39m,\n\u001b[1;32m     65\u001b[0m         config,\n\u001b[1;32m     66\u001b[0m         run_type\u001b[38;5;241m=\u001b[39m\u001b[38;5;124m\"\u001b[39m\u001b[38;5;124mprompt\u001b[39m\u001b[38;5;124m\"\u001b[39m,\n\u001b[1;32m     67\u001b[0m     )\n",
      "\u001b[0;31mKeyError\u001b[0m: 'TEXT'"
     ]
    }
   ],
   "source": [
    "outputs = [teaser_matches_crit(t1, str(statements), crit_match_prompt, c) for c in crits]"
   ]
  },
  {
   "cell_type": "code",
   "execution_count": 9,
   "metadata": {},
   "outputs": [
    {
     "data": {
      "text/plain": [
       "['Das Kriterium lautet: Der Text erwähnt eine oder mehrere Personen explizit.\\nEntscheidung: Ja. Referenz: Im zweiten Absatz wird ein internationales Forschungsteam erwähnt, das fast eine Million Menschen untersucht hat.',\n",
       " 'Die Kriterien sind: Der Text enthält Informationen über Krebs.\\nEntscheidung: Ja. Referenz: Im zweiten Absatz wird ein Zusammenhang zwischen der Menge an Strahlung und dem Risiko für Blutkrebs (eine Form von Krebs) beschrieben.',\n",
       " 'Das Kriterium ist: Der Text enthält die Erwähnung eines spezifischen Zeitschriftennamens einer Studie.\\nEntscheidung: Ja. Referenz: Absatz im Text, der dem Kriterium entspricht, ist \"In einer großen Studie im Fachblatt „Nature Medicine“ hat nun ein internationales Forschungsteam fast eine Million Menschen in neun europäischen Ländern untersucht, die vor ihrem 22. Lebensjahr CT-Scans hatten (siehe Primärquelle).\"',\n",
       " 'Die Kriterien sind: Der Text beschreibt eine mathematische Methode zur Optimierung einer Verlustfunktion mit vier Zielen.\\nEntscheidung: Nein. Referenz: Im Text gibt es keine Passage, die eine mathematische Methode zur Optimierung einer Verlustfunktion mit vier Zielen beschreibt. Stattdessen geht es um eine Studie, die den Zusammenhang zwischen Strahlenbelastung durch CT-Scans und dem Risiko für Blutkrebs bei Kindern untersucht.']"
      ]
     },
     "execution_count": 9,
     "metadata": {},
     "output_type": "execute_result"
    }
   ],
   "source": [
    "outputs"
   ]
  },
  {
   "cell_type": "code",
   "execution_count": 16,
   "metadata": {},
   "outputs": [],
   "source": [
    "table_out = aggregate_decisions(outputs, agg_decisions_prompt)"
   ]
  },
  {
   "cell_type": "code",
   "execution_count": 17,
   "metadata": {},
   "outputs": [
    {
     "name": "stdout",
     "output_type": "stream",
     "text": [
      "Hier ist die Tabelle, die auf den gegebenen Entscheidungen basiert:\n",
      "\n",
      "| Kriterium                                                                                   | Entsprechung | Referenz                                                                                                                                                                                                 |\n",
      "|---------------------------------------------------------------------------------------------|--------------|----------------------------------------------------------------------------------------------------------------------------------------------------------------------------------------------------------|\n",
      "| Der Text erwähnt eine oder mehrere Personen explizit.                                       | Ja           | Im zweiten Absatz wird ein internationales Forschungsteam erwähnt, das fast eine Million Menschen untersucht hat.                                                                                       |\n",
      "| Der Text enthält Informationen über Krebs.                                                  | Ja           | Im zweiten Absatz wird ein Zusammenhang zwischen der Menge an Strahlung und dem Risiko für Blutkrebs (eine Form von Krebs) beschrieben.                                                                 |\n",
      "| Der Text enthält die Erwähnung eines spezifischen Zeitschriftennamens einer Studie.         | Ja           | Absatz im Text, der dem Kriterium entspricht, ist \"In einer großen Studie im Fachblatt „Nature Medicine“ hat nun ein internationales Forschungsteam fast eine Million Menschen in neun europäischen Ländern untersucht, die vor ihrem 22. Lebensjahr CT-Scans hatten (siehe Primärquelle).\" |\n",
      "| Der Text beschreibt eine mathematische Methode zur Optimierung einer Verlustfunktion mit vier Zielen. | Nein          | Im Text gibt es keine Passage, die eine mathematische Methode zur Optimierung einer Verlustfunktion mit vier Zielen beschreibt. Stattdessen geht es um eine Studie, die den Zusammenhang zwischen Strahlenbelastung durch CT-Scans und dem Risiko für Blutkrebs bei Kindern untersucht.           |\n"
     ]
    }
   ],
   "source": [
    "print(table_out)"
   ]
  },
  {
   "cell_type": "code",
   "execution_count": null,
   "metadata": {},
   "outputs": [],
   "source": []
  }
 ],
 "metadata": {
  "kernelspec": {
   "display_name": "Python 3 (ipykernel)",
   "language": "python",
   "name": "python3"
  },
  "language_info": {
   "codemirror_mode": {
    "name": "ipython",
    "version": 3
   },
   "file_extension": ".py",
   "mimetype": "text/x-python",
   "name": "python",
   "nbconvert_exporter": "python",
   "pygments_lexer": "ipython3",
   "version": "3.11.6"
  }
 },
 "nbformat": 4,
 "nbformat_minor": 4
}
