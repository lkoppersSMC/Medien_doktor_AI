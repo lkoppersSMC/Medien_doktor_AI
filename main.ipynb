{
 "cells": [
  {
   "cell_type": "code",
   "execution_count": 1,
   "metadata": {},
   "outputs": [],
   "source": [
    "%load_ext autoreload\n",
    "%autoreload 2"
   ]
  },
  {
   "cell_type": "code",
   "execution_count": 38,
   "metadata": {},
   "outputs": [],
   "source": [
    "from simple_radio_script_encapsulated import _get_teaser_for_story, _get_statements_for_story_id\n",
    "from simple_radio_script_encapsulated import teaser_matches_crit, aggregate_decisions"
   ]
  },
  {
   "cell_type": "code",
   "execution_count": 39,
   "metadata": {},
   "outputs": [],
   "source": [
    "story_no = 23188"
   ]
  },
  {
   "cell_type": "code",
   "execution_count": 40,
   "metadata": {},
   "outputs": [
    {
     "data": {
      "text/plain": [
       "'Die Computertomographie (CT) ist eines der wichtigsten Diagnoseverfahren in der Medizin. Der Nutzen ist unumstritten. Gleichwohl ist auch bekannt, dass zu viel Röntgenstrahlung das Krebsrisiko erhöhen kann. Je jünger die Patienten, desto wichtiger ist ein Blick auf diese Dosis-Wirkungs-Beziehung. Jedes Jahr unterziehen sich mehr als eine Million Kinder in Europa einem CT-Scan. Wie groß das Strahlenrisiko bei ihnen genau ist, ist nicht bekannt.\\n\\nIn einer großen Studie im Fachblatt „Nature Medicine“ hat nun ein internationales Forschungsteam fast eine Million Menschen in neun europäischen Ländern untersucht, die vor ihrem 22. Lebensjahr CT-Scans hatten (siehe Primärquelle). Die Autorinnen und Autoren berechneten zunächst die Strahlenbelastung der Patienten. Dabei zeigte sich ein Zusammenhang zwischen der Menge an Strahlung und dem Risiko für Blutkrebs. Für jede Person wurde die Strahlendosis geschätzt, die auf das Knochenmark einwirkt, wo Blutzellen produziert werden. Bei Leukämie kommt es zu einer bösartigen Veränderung von Blutzellen. Ein bis zwei von 10.000 Kindern, die heute einen CT-Scan mit einer durchschnittlichen Strahlendosis von acht Milligray (mGy) erhalten, könnten der Studie zufolge in den nächsten zwölf Jahren aufgrund der CT-Untersuchung Blutkrebs entwickeln. Mit der Einheit mGy wird gemessen, wie viel Strahlung das Körpergewebe während eines CT-Scans aufnimmt.\\n\\nDie Forschenden betonen, dass ihre Ergebnisse dazu beitragen könnten, medizinische Richtlinien zu schärfen. Sie seien ein weiterer Beleg dafür, die Strahlendosis bei Kindern so niedrig wie möglich zu halten. In Deutschland sind CT-Scans bei Kindern sehr streng geregelt [I] [II].'"
      ]
     },
     "execution_count": 40,
     "metadata": {},
     "output_type": "execute_result"
    }
   ],
   "source": [
    "t1 = _get_teaser_for_story(story_no)\n",
    "t1"
   ]
  },
  {
   "cell_type": "code",
   "execution_count": 41,
   "metadata": {},
   "outputs": [
    {
     "name": "stdout",
     "output_type": "stream",
     "text": [
      "[{'expert_name': 'Prof. Dr. Hajo Zeeb', 'statement': '„Das ist die lang erwartete Epi-CT-Studie, in die auch unsere (wenigen) deutschen Daten eingegangen sind. Hauptsächlich wird die Datenmenge aber von der großen Studie aus Großbritannien geprägt (rund 50 Prozent), die Daten der ersten Veröffentlichungen dieser Studie wurden allerdings für die vorliegende Analyse nochmal aktualisiert und erweitert.“\\n\\n„Da viele Einzelkohorten schon vorher publiziert wurden, überrascht das Gesamtergebnis erhöhter Risiken pro Dosis für hämatologische Krebserkrankungen bei jungen Menschen nicht. Einige Auffälligkeiten gibt es aber schon. Zum Beispiel die erhöhten Risiken für das Hodgkin-Lymphom, was in der großen Referenzstudie in der Strahlenepidemiologie, der Life-Span-Study bei Überlebenden der Atombombenabwürfe in Japan, so nicht gefunden wird, und auch nicht in den bisherigen Einzelveröffentlichungen zu CT-Expositionen. Dies ist aber nur ein kleiner Anteil aller Fälle, und muss in Zukunft weiter untersucht werden.“\\n\\n„Die Methodik ist insgesamt aus meiner Sicht sehr solide, insbesondere bei der Dosisabschätzung wurden sehr umfangreiche methodische Anstrengungen unternommen, und es wurden viele Analysen auch mit (geplanten) alternativen Gruppen oder Spezifikationen vorgenommen, die ganz überwiegend konsistent waren. Allerdings fehlen mögliche Confounder in allen oder in einzelnen Kohorten, so etwa der sozioökonomische Status (nur in vier Kohorten vorhanden) oder die klinische Indikation. Dies ist aber kein Übersehen, diese Informationen stehen in einer Pooling-Studie dieser Art nicht überall zur Verfügung. Durch die Wahl eines Mindestabstands von zwei Jahren zwischen CT und Beginn der Periode, in der auftretende Erkrankungen als potenziell mit der CT-Strahlendosis in Verbindung stehend gewertet werden, wird verhindert, dass zeitlich sehr früh nach CT-Aufnahme auftretende Tumoren der Bildgebung zugeschrieben werden. Das würde keinen Sinn machen (Stichwort: reverse causation). Hierzu wurden zudem noch weitere Sensitivitätsanalysen mit anderen Perioden durchgeführt.“\\n\\n„Bei der Interpretation und möglichen Schlussfolgerungen ist zu beachten, dass es natürlich bei der Durchführung einer CT nicht klar ist, welche Kinder oder Jugendliche gegebenenfalls betroffen sind. Daher kann es nur für jedwede CT-Untersuchung darum gehen, die medizinische Indikation für die Durchführung einer CT genau und restriktiv zu stellen, überall wo möglich alternative Bildgebungsverfahren einzusetzen und die Durchführung von CT in Bezug auf die technischen Parameter genau auf die jungen Patient:innen abzustimmen, sodass die Dosis so niedrig wie möglich ist. Eine gute Dosisdokumentation wäre überdies hilfreich, auch für weitere Forschungsprojekte und Monitoring.“\\n\\n„In Deutschland wird insgesamt schon recht restriktiv mit CT bei Kindern/Jugendlichen umgegangen, so meine Einschätzung. Insofern bestätigt die vorliegende Studie diese Praxis und kann gegebenenfalls an manchen Praxen oder Kliniken nochmal für zusätzliche Klarheit und zu Anstrengungen führen.“', 'question': None}]\n"
     ]
    }
   ],
   "source": [
    "statements = _get_statements_for_story_id(story_no)\n",
    "print(statements)"
   ]
  },
  {
   "cell_type": "code",
   "execution_count": 46,
   "metadata": {},
   "outputs": [],
   "source": [
    "crit_match_prompt = \"\"\"\n",
    "    You are a professional journalist in the medicine domain. You will receive a text and i want you to decide whether the following criteria matches the text.\n",
    "    To help you guide your decision, you will also get a few expert statements in JSON Form.\n",
    "    Please answer in the following format.\n",
    "    The Criteria is: {CRITERIA}\n",
    "    Decision: yes or no. Reference: Paragraph in the text which matches the criteria.\n",
    "\n",
    "    ```\n",
    "    TEXT: {TEASER}\n",
    "    ```\n",
    "    ```\n",
    "    EXPERT STATEMENTS: \n",
    "    {STATEMENTS}\n",
    "    ```\n",
    "    Please answer in German.\n",
    "    \"\"\" "
   ]
  },
  {
   "cell_type": "code",
   "execution_count": 62,
   "metadata": {},
   "outputs": [],
   "source": [
    "agg_decisions_prompt = \"\"\"\n",
    "    I will provide a list of Texts to you. These Texts are decisions for specified criteria on a news article. \n",
    "    I want you to build a table with the columns criteria, match and reference.\n",
    "    The column critera should name the specified criteria, match indicates if the criteria matches or not and the column reference shows the part of the text which corresponds to the criteria\n",
    "\n",
    "    The different decisions are separated by the | symbol\n",
    "\n",
    "    Here is the list of the decisions:\n",
    "    ```\n",
    "    TEXT: {TEXT}\n",
    "    ```\n",
    "    Please answer in german.\n",
    "\n",
    "\"\"\""
   ]
  },
  {
   "cell_type": "code",
   "execution_count": 58,
   "metadata": {},
   "outputs": [],
   "source": [
    "crit1 = \"The text mentions one or more persons explicitly\"\n",
    "crit2 = \"The text contains information about cancer\"\n",
    "crit3 = \"The text contains mentions a specifoc journal name of a study\"\n",
    "crit4 = \"The text describes a mathematical method for optimizing a loss function with four objectives\"\n",
    "\n",
    "crits = [crit1, crit2, crit3, crit4]"
   ]
  },
  {
   "cell_type": "code",
   "execution_count": 49,
   "metadata": {},
   "outputs": [],
   "source": [
    "outputs = [teaser_matches_crit(t1, str(statements), crit_match_prompt, c) for c in crits]"
   ]
  },
  {
   "cell_type": "code",
   "execution_count": 50,
   "metadata": {},
   "outputs": [
    {
     "data": {
      "text/plain": [
       "['Die Kriterien sind: Der Text erwähnt eine oder mehrere Personen explizit.\\nEntscheidung: Nein. Referenz: Im Text werden keine spezifischen Personen namentlich erwähnt.',\n",
       " 'Die Kriterien sind: Der Text enthält Informationen über Krebs.\\nEntscheidung: Ja. Referenz: Im Text wird ein Zusammenhang zwischen der Menge an Strahlung durch CT-Scans und dem Risiko für Blutkrebs, insbesondere Leukämie, beschrieben. Dies wird im zweiten Absatz deutlich: \"Dabei zeigte sich ein Zusammenhang zwischen der Menge an Strahlung und dem Risiko für Blutkrebs.\"',\n",
       " 'Die Kriterien sind: Der Text enthält die Erwähnung eines spezifischen Zeitschriftennamens einer Studie.\\nEntscheidung: Ja. Referenz: Im Text wird im zweiten Absatz das Fachblatt „Nature Medicine“ erwähnt, in dem die Studie veröffentlicht wurde: \"In einer großen Studie im Fachblatt „Nature Medicine“ hat nun ein internationales Forschungsteam fast eine Million Menschen in neun europäischen Ländern untersucht, die vor ihrem 22. Lebensjahr CT-Scans hatten (siehe Primärquelle).\"',\n",
       " 'Die Kriterien sind: Der Text beschreibt eine mathematische Methode zur Optimierung einer Verlustfunktion mit vier Zielen.\\n\\nEntscheidung: Nein. Referenz: Der Text beschreibt eine Studie, die den Zusammenhang zwischen der Strahlenbelastung durch CT-Scans und dem Risiko für Blutkrebs bei Kindern und Jugendlichen untersucht. Es wird keine mathematische Methode zur Optimierung einer Verlustfunktion mit vier Zielen beschrieben.']"
      ]
     },
     "execution_count": 50,
     "metadata": {},
     "output_type": "execute_result"
    }
   ],
   "source": [
    "outputs"
   ]
  },
  {
   "cell_type": "code",
   "execution_count": 63,
   "metadata": {},
   "outputs": [],
   "source": [
    "table_out = aggregate_decisions(outputs, agg_decisions_prompt)"
   ]
  },
  {
   "cell_type": "code",
   "execution_count": null,
   "metadata": {},
   "outputs": [],
   "source": [
    "file_path='output.md'\n",
    "with open(file_path, 'w') as file:  \n",
    "    print(table_out)  \n",
    "    print(table_out, file = file)"
   ]
  },
  {
   "cell_type": "markdown",
   "metadata": {},
   "source": [
    "{{ table_out }}"
   ]
  }
 ],
 "metadata": {
  "kernelspec": {
   "display_name": "Python 3 (ipykernel)",
   "language": "python",
   "name": "python3"
  },
  "language_info": {
   "codemirror_mode": {
    "name": "ipython",
    "version": 3
   },
   "file_extension": ".py",
   "mimetype": "text/x-python",
   "name": "python",
   "nbconvert_exporter": "python",
   "pygments_lexer": "ipython3",
   "version": "3.11.6"
  }
 },
 "nbformat": 4,
 "nbformat_minor": 4
}
