{
 "cells": [
  {
   "cell_type": "code",
   "execution_count": 1,
   "metadata": {},
   "outputs": [],
   "source": [
    "%load_ext autoreload\n",
    "%autoreload 2"
   ]
  },
  {
   "cell_type": "code",
   "execution_count": 2,
   "metadata": {},
   "outputs": [],
   "source": [
    "from simple_radio_script_encapsulated import _get_teaser_for_story\n",
    "from simple_radio_script_encapsulated import teaser_matches_crit"
   ]
  },
  {
   "cell_type": "code",
   "execution_count": 3,
   "metadata": {},
   "outputs": [],
   "source": [
    "story_no = 23188"
   ]
  },
  {
   "cell_type": "code",
   "execution_count": 4,
   "metadata": {},
   "outputs": [],
   "source": [
    "t1 = _get_teaser_for_story(story_no)"
   ]
  },
  {
   "cell_type": "code",
   "execution_count": 5,
   "metadata": {},
   "outputs": [],
   "source": [
    "crit_match_prompt = \"\"\"\n",
    "    You are a professional journalist in the medicine domain. You will receive a text and i want you to decide whether the following criteria matches the text.\n",
    "    Please answer in the following format.\n",
    "    The Criteria is: {CRITERIA}\n",
    "    Decision: yes or no. Reference: Paragraph in the text which matches the criteria.\n",
    "\n",
    "    ```\n",
    "    TEXT: {TEXT}\n",
    "    ```\n",
    "    Please answer in German.\n",
    "    \"\"\" "
   ]
  },
  {
   "cell_type": "code",
   "execution_count": null,
   "metadata": {},
   "outputs": [],
   "source": [
    "agg_decisions = \"\"\"\n",
    "    I will provide a list of Texts to you. These Texts are decisions for specified criteria on a news article. \n",
    "    I want you to build a table with the columns criteria, match and reference.\n",
    "    The column critera should name the specified criteria, match indicates if the criteria matches or not and the column reference shows the part of the text which corresponds to the criteria\n",
    "\n",
    "    The different decisions are separated by the | symbol\n",
    "\n",
    "    Here is the list of the decisions:\n",
    "    ```\n",
    "    TEXT: {TEXT}\n",
    "    ```\n",
    "    Please answer in german.\n",
    "\n",
    "\"\"\""
   ]
  },
  {
   "cell_type": "code",
   "execution_count": 6,
   "metadata": {},
   "outputs": [],
   "source": [
    "crit1 = \"The text mentions one or more persons explicitly\"\n",
    "crit2 = \"The text contains information about cancer\"\n",
    "crit3 = \"The text contains mentions a specifoc journal name of a study\"\n",
    "crit4 = \"The text describes a mathematical method for optimizing a loss function with four objectives\"\n",
    "\n",
    "crits = [crit1, crit2, crit3, crit4]"
   ]
  },
  {
   "cell_type": "code",
   "execution_count": 8,
   "metadata": {},
   "outputs": [],
   "source": [
    "outputs = [teaser_matches_crit(t1, crit_match_prompt, c) for c in crits]"
   ]
  },
  {
   "cell_type": "code",
   "execution_count": 9,
   "metadata": {},
   "outputs": [
    {
     "data": {
      "text/plain": [
       "['Das Kriterium lautet: Der Text erwähnt eine oder mehrere Personen explizit.\\nEntscheidung: Ja. Referenz: Im zweiten Absatz wird ein internationales Forschungsteam erwähnt, das fast eine Million Menschen untersucht hat.',\n",
       " 'Die Kriterien sind: Der Text enthält Informationen über Krebs.\\nEntscheidung: Ja. Referenz: Im zweiten Absatz wird ein Zusammenhang zwischen der Menge an Strahlung und dem Risiko für Blutkrebs (eine Form von Krebs) beschrieben.',\n",
       " 'Das Kriterium ist: Der Text enthält die Erwähnung eines spezifischen Zeitschriftennamens einer Studie.\\nEntscheidung: Ja. Referenz: Absatz im Text, der dem Kriterium entspricht, ist \"In einer großen Studie im Fachblatt „Nature Medicine“ hat nun ein internationales Forschungsteam fast eine Million Menschen in neun europäischen Ländern untersucht, die vor ihrem 22. Lebensjahr CT-Scans hatten (siehe Primärquelle).\"',\n",
       " 'Die Kriterien sind: Der Text beschreibt eine mathematische Methode zur Optimierung einer Verlustfunktion mit vier Zielen.\\nEntscheidung: Nein. Referenz: Im Text gibt es keine Passage, die eine mathematische Methode zur Optimierung einer Verlustfunktion mit vier Zielen beschreibt. Stattdessen geht es um eine Studie, die den Zusammenhang zwischen Strahlenbelastung durch CT-Scans und dem Risiko für Blutkrebs bei Kindern untersucht.']"
      ]
     },
     "execution_count": 9,
     "metadata": {},
     "output_type": "execute_result"
    }
   ],
   "source": [
    "outputs"
   ]
  },
  {
   "cell_type": "code",
   "execution_count": null,
   "metadata": {},
   "outputs": [],
   "source": []
  }
 ],
 "metadata": {
  "kernelspec": {
   "display_name": "Python 3",
   "language": "python",
   "name": "python3"
  },
  "language_info": {
   "codemirror_mode": {
    "name": "ipython",
    "version": 3
   },
   "file_extension": ".py",
   "mimetype": "text/x-python",
   "name": "python",
   "nbconvert_exporter": "python",
   "pygments_lexer": "ipython3",
   "version": "3.11.6"
  }
 },
 "nbformat": 4,
 "nbformat_minor": 2
}
