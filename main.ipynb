{
 "cells": [
  {
   "cell_type": "code",
   "execution_count": 1,
   "metadata": {},
   "outputs": [],
   "source": [
    "%load_ext autoreload\n",
    "%autoreload 2"
   ]
  },
  {
   "cell_type": "code",
   "execution_count": 2,
   "metadata": {},
   "outputs": [],
   "source": [
    "from simple_radio_script_encapsulated import _get_teaser_for_story\n",
    "from simple_radio_script_encapsulated import teaser_matches_crit"
   ]
  },
  {
   "cell_type": "code",
   "execution_count": 3,
   "metadata": {},
   "outputs": [],
   "source": [
    "story_no = 23188"
   ]
  },
  {
   "cell_type": "code",
   "execution_count": 4,
   "metadata": {},
   "outputs": [],
   "source": [
    "t1 = _get_teaser_for_story(story_no)"
   ]
  },
  {
   "cell_type": "code",
   "execution_count": 7,
   "metadata": {},
   "outputs": [],
   "source": [
    "crit_match_prompt = \"\"\"\n",
    "    You are a professional journalist in the medicine domain. You will receive a text and i want you to decide whether the following criteria matches the text.\n",
    "    Please answer in the following format.\n",
    "    The Criteria is: {CRITERIA}\n",
    "    Decision: yes or no. Reference: Paragraph in the text which matches the criteria.\n",
    "\n",
    "    ```\n",
    "    TEXT: {TEXT}\n",
    "    ```\n",
    "    Please answer in German.\n",
    "    \"\"\" "
   ]
  },
  {
   "cell_type": "code",
   "execution_count": 9,
   "metadata": {},
   "outputs": [],
   "source": [
    "crit = \"The Text mentions one or more persons explicitly\""
   ]
  },
  {
   "cell_type": "code",
   "execution_count": 10,
   "metadata": {},
   "outputs": [
    {
     "name": "stdout",
     "output_type": "stream",
     "text": [
      "Die Kriterien sind: Der Text erwähnt eine oder mehrere Personen explizit.\n",
      "Entscheidung: Ja. Referenz: Im zweiten Absatz wird ein internationales Forschungsteam erwähnt, das fast eine Million Menschen untersucht hat.\n"
     ]
    }
   ],
   "source": [
    "print(teaser_matches_crit(t1, crit_match_prompt, crit))"
   ]
  },
  {
   "cell_type": "code",
   "execution_count": null,
   "metadata": {},
   "outputs": [],
   "source": []
  }
 ],
 "metadata": {
  "kernelspec": {
   "display_name": "Python 3",
   "language": "python",
   "name": "python3"
  },
  "language_info": {
   "codemirror_mode": {
    "name": "ipython",
    "version": 3
   },
   "file_extension": ".py",
   "mimetype": "text/x-python",
   "name": "python",
   "nbconvert_exporter": "python",
   "pygments_lexer": "ipython3",
   "version": "3.11.6"
  }
 },
 "nbformat": 4,
 "nbformat_minor": 2
}
